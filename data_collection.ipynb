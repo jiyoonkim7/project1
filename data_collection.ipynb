{
 "cells": [
  {
   "cell_type": "markdown",
   "id": "49c3dc29-66bf-4663-8439-08f1fa98f871",
   "metadata": {},
   "source": [
    "<div>\n",
    "    <img src='../pics/banner.PNG'/>\n",
    "</div>\n",
    "<div>\n",
    "    <img width=\"10%\" height=\"10%\" src='../pics/python-programming.png'/>\n",
    "    <img src='../pics/miw.PNG'/>\n",
    "</div>\n",
    "<div>\n",
    "    <em>Author: Jeroen Boogaard</em>\n",
    "</div>"
   ]
  },
  {
   "cell_type": "markdown",
   "id": "2dead3f3-b6e8-4528-a00d-e53be157bf3e",
   "metadata": {},
   "source": [
    "<h2>Imports<h2>"
   ]
  },
  {
   "cell_type": "code",
   "execution_count": 20,
   "id": "cb4ceef7-a3dd-4b2f-a57f-593190911236",
   "metadata": {
    "tags": []
   },
   "outputs": [
    {
     "data": {
      "text/plain": [
       "0"
      ]
     },
     "execution_count": 20,
     "metadata": {},
     "output_type": "execute_result"
    }
   ],
   "source": [
    "from os import system as sys\n",
    "sys('pip list | grep django || pip install --upgrade -r requirements.txt')"
   ]
  },
  {
   "cell_type": "code",
   "execution_count": 37,
   "id": "aefe8f36-d422-4cb9-b302-882954032426",
   "metadata": {
    "tags": []
   },
   "outputs": [],
   "source": [
    "import requests\n",
    "import json\n",
    "import pandas as pd\n",
    "import sqlite3"
   ]
  },
  {
   "cell_type": "markdown",
   "id": "15e80288-e20d-4bbe-adf5-56f9ed9791f6",
   "metadata": {},
   "source": [
    "<h3>Global variables</h3>"
   ]
  },
  {
   "cell_type": "code",
   "execution_count": 30,
   "id": "955a3dce-30a3-4945-96d9-20472ed44e22",
   "metadata": {
    "tags": []
   },
   "outputs": [],
   "source": [
    "dbName = \"rest_server/medisch_centrum_randstad/db.sqlite3\"\n",
    "tableName = \"rest_api_netlify\"\n",
    "url = \"http://localhost:8080/medish_centrum_randstad/api/netlify?page=1\"\n",
    "csvFile = \"rest_server/medisch_centrum_randstad/data/data.csv\""
   ]
  },
  {
   "cell_type": "code",
   "execution_count": 31,
   "id": "d21fd713-0c8e-4563-9e09-ec90c2cbed3e",
   "metadata": {
    "tags": []
   },
   "outputs": [],
   "source": [
    "request = requests.get('http://localhost:8080/medish_centrum_randstad/api/netlify?page=1')"
   ]
  },
  {
   "cell_type": "code",
   "execution_count": 33,
   "id": "b7fa17c9-4edd-4db4-84a2-3dd584be1040",
   "metadata": {
    "tags": []
   },
   "outputs": [
    {
     "data": {
      "text/plain": [
       "'application/json'"
      ]
     },
     "execution_count": 33,
     "metadata": {},
     "output_type": "execute_result"
    }
   ],
   "source": [
    "request.headers['content-type']"
   ]
  },
  {
   "cell_type": "code",
   "execution_count": 38,
   "id": "9b516667-8b5d-47aa-a3bc-9e646fcc105f",
   "metadata": {
    "tags": []
   },
   "outputs": [],
   "source": [
    "df = pd.read_json(request.text)"
   ]
  },
  {
   "cell_type": "code",
   "execution_count": 41,
   "id": "8160a7fa-3ce1-4b92-aa89-0d01cdf28f14",
   "metadata": {
    "tags": []
   },
   "outputs": [
    {
     "name": "stdout",
     "output_type": "stream",
     "text": [
      "<class 'pandas.core.frame.DataFrame'>\n",
      "RangeIndex: 4096 entries, 0 to 4095\n",
      "Data columns (total 6 columns):\n",
      " #   Column               Non-Null Count  Dtype \n",
      "---  ------               --------------  ----- \n",
      " 0   status               4096 non-null   int64 \n",
      " 1   total_nr_of_records  4096 non-null   int64 \n",
      " 2   nr_of_pages          4096 non-null   int64 \n",
      " 3   page_size            4096 non-null   int64 \n",
      " 4   next                 4096 non-null   object\n",
      " 5   data                 4096 non-null   object\n",
      "dtypes: int64(4), object(2)\n",
      "memory usage: 192.1+ KB\n"
     ]
    }
   ],
   "source": [
    "df.info()"
   ]
  },
  {
   "cell_type": "code",
   "execution_count": 42,
   "id": "dee8df55-8434-4f90-be11-4947c1603e39",
   "metadata": {
    "tags": []
   },
   "outputs": [
    {
     "data": {
      "text/html": [
       "<div>\n",
       "<style scoped>\n",
       "    .dataframe tbody tr th:only-of-type {\n",
       "        vertical-align: middle;\n",
       "    }\n",
       "\n",
       "    .dataframe tbody tr th {\n",
       "        vertical-align: top;\n",
       "    }\n",
       "\n",
       "    .dataframe thead th {\n",
       "        text-align: right;\n",
       "    }\n",
       "</style>\n",
       "<table border=\"1\" class=\"dataframe\">\n",
       "  <thead>\n",
       "    <tr style=\"text-align: right;\">\n",
       "      <th></th>\n",
       "      <th>status</th>\n",
       "      <th>total_nr_of_records</th>\n",
       "      <th>nr_of_pages</th>\n",
       "      <th>page_size</th>\n",
       "      <th>next</th>\n",
       "      <th>data</th>\n",
       "    </tr>\n",
       "  </thead>\n",
       "  <tbody>\n",
       "    <tr>\n",
       "      <th>0</th>\n",
       "      <td>200</td>\n",
       "      <td>4096</td>\n",
       "      <td>41</td>\n",
       "      <td>100</td>\n",
       "      <td>http://localhost:8080/medish_centrum_randstad/...</td>\n",
       "      <td>{'genetic': 73.9, 'length': 185.0, 'mass': 99....</td>\n",
       "    </tr>\n",
       "    <tr>\n",
       "      <th>1</th>\n",
       "      <td>200</td>\n",
       "      <td>4096</td>\n",
       "      <td>41</td>\n",
       "      <td>100</td>\n",
       "      <td>http://localhost:8080/medish_centrum_randstad/...</td>\n",
       "      <td>{'genetic': 86.0, 'length': 172.0, 'mass': 105...</td>\n",
       "    </tr>\n",
       "    <tr>\n",
       "      <th>2</th>\n",
       "      <td>200</td>\n",
       "      <td>4096</td>\n",
       "      <td>41</td>\n",
       "      <td>100</td>\n",
       "      <td>http://localhost:8080/medish_centrum_randstad/...</td>\n",
       "      <td>{'genetic': 83.3, 'length': 176.0, 'mass': 111...</td>\n",
       "    </tr>\n",
       "    <tr>\n",
       "      <th>3</th>\n",
       "      <td>200</td>\n",
       "      <td>4096</td>\n",
       "      <td>41</td>\n",
       "      <td>100</td>\n",
       "      <td>http://localhost:8080/medish_centrum_randstad/...</td>\n",
       "      <td>{'genetic': 82.8, 'length': 164.0, 'mass': 111...</td>\n",
       "    </tr>\n",
       "    <tr>\n",
       "      <th>4</th>\n",
       "      <td>200</td>\n",
       "      <td>4096</td>\n",
       "      <td>41</td>\n",
       "      <td>100</td>\n",
       "      <td>http://localhost:8080/medish_centrum_randstad/...</td>\n",
       "      <td>{'genetic': 78.7, 'length': 178.0, 'mass': 71....</td>\n",
       "    </tr>\n",
       "    <tr>\n",
       "      <th>...</th>\n",
       "      <td>...</td>\n",
       "      <td>...</td>\n",
       "      <td>...</td>\n",
       "      <td>...</td>\n",
       "      <td>...</td>\n",
       "      <td>...</td>\n",
       "    </tr>\n",
       "    <tr>\n",
       "      <th>4091</th>\n",
       "      <td>200</td>\n",
       "      <td>4096</td>\n",
       "      <td>41</td>\n",
       "      <td>100</td>\n",
       "      <td>http://localhost:8080/medish_centrum_randstad/...</td>\n",
       "      <td>{'genetic': 80.3, 'length': 176.0, 'mass': 115...</td>\n",
       "    </tr>\n",
       "    <tr>\n",
       "      <th>4092</th>\n",
       "      <td>200</td>\n",
       "      <td>4096</td>\n",
       "      <td>41</td>\n",
       "      <td>100</td>\n",
       "      <td>http://localhost:8080/medish_centrum_randstad/...</td>\n",
       "      <td>{'genetic': 75.3, 'length': 162.0, 'mass': 129...</td>\n",
       "    </tr>\n",
       "    <tr>\n",
       "      <th>4093</th>\n",
       "      <td>200</td>\n",
       "      <td>4096</td>\n",
       "      <td>41</td>\n",
       "      <td>100</td>\n",
       "      <td>http://localhost:8080/medish_centrum_randstad/...</td>\n",
       "      <td>{'genetic': 93.1, 'length': 189.0, 'mass': 115...</td>\n",
       "    </tr>\n",
       "    <tr>\n",
       "      <th>4094</th>\n",
       "      <td>200</td>\n",
       "      <td>4096</td>\n",
       "      <td>41</td>\n",
       "      <td>100</td>\n",
       "      <td>http://localhost:8080/medish_centrum_randstad/...</td>\n",
       "      <td>{'genetic': 77.9, 'length': 170.0, 'mass': 90....</td>\n",
       "    </tr>\n",
       "    <tr>\n",
       "      <th>4095</th>\n",
       "      <td>200</td>\n",
       "      <td>4096</td>\n",
       "      <td>41</td>\n",
       "      <td>100</td>\n",
       "      <td>http://localhost:8080/medish_centrum_randstad/...</td>\n",
       "      <td>{'genetic': 101.3, 'length': 188.0, 'mass': 12...</td>\n",
       "    </tr>\n",
       "  </tbody>\n",
       "</table>\n",
       "<p>4096 rows × 6 columns</p>\n",
       "</div>"
      ],
      "text/plain": [
       "      status  total_nr_of_records  nr_of_pages  page_size  \\\n",
       "0        200                 4096           41        100   \n",
       "1        200                 4096           41        100   \n",
       "2        200                 4096           41        100   \n",
       "3        200                 4096           41        100   \n",
       "4        200                 4096           41        100   \n",
       "...      ...                  ...          ...        ...   \n",
       "4091     200                 4096           41        100   \n",
       "4092     200                 4096           41        100   \n",
       "4093     200                 4096           41        100   \n",
       "4094     200                 4096           41        100   \n",
       "4095     200                 4096           41        100   \n",
       "\n",
       "                                                   next  \\\n",
       "0     http://localhost:8080/medish_centrum_randstad/...   \n",
       "1     http://localhost:8080/medish_centrum_randstad/...   \n",
       "2     http://localhost:8080/medish_centrum_randstad/...   \n",
       "3     http://localhost:8080/medish_centrum_randstad/...   \n",
       "4     http://localhost:8080/medish_centrum_randstad/...   \n",
       "...                                                 ...   \n",
       "4091  http://localhost:8080/medish_centrum_randstad/...   \n",
       "4092  http://localhost:8080/medish_centrum_randstad/...   \n",
       "4093  http://localhost:8080/medish_centrum_randstad/...   \n",
       "4094  http://localhost:8080/medish_centrum_randstad/...   \n",
       "4095  http://localhost:8080/medish_centrum_randstad/...   \n",
       "\n",
       "                                                   data  \n",
       "0     {'genetic': 73.9, 'length': 185.0, 'mass': 99....  \n",
       "1     {'genetic': 86.0, 'length': 172.0, 'mass': 105...  \n",
       "2     {'genetic': 83.3, 'length': 176.0, 'mass': 111...  \n",
       "3     {'genetic': 82.8, 'length': 164.0, 'mass': 111...  \n",
       "4     {'genetic': 78.7, 'length': 178.0, 'mass': 71....  \n",
       "...                                                 ...  \n",
       "4091  {'genetic': 80.3, 'length': 176.0, 'mass': 115...  \n",
       "4092  {'genetic': 75.3, 'length': 162.0, 'mass': 129...  \n",
       "4093  {'genetic': 93.1, 'length': 189.0, 'mass': 115...  \n",
       "4094  {'genetic': 77.9, 'length': 170.0, 'mass': 90....  \n",
       "4095  {'genetic': 101.3, 'length': 188.0, 'mass': 12...  \n",
       "\n",
       "[4096 rows x 6 columns]"
      ]
     },
     "execution_count": 42,
     "metadata": {},
     "output_type": "execute_result"
    }
   ],
   "source": [
    "df"
   ]
  },
  {
   "cell_type": "code",
   "execution_count": 45,
   "id": "43d13845-d837-4b2f-84b1-c8f25ec71f3b",
   "metadata": {
    "tags": []
   },
   "outputs": [],
   "source": [
    "df_part = df['data']"
   ]
  },
  {
   "cell_type": "code",
   "execution_count": 46,
   "id": "4049d672-6c27-4f97-847d-9c09f1b787ca",
   "metadata": {
    "tags": []
   },
   "outputs": [
    {
     "data": {
      "text/plain": [
       "0       {'genetic': 73.9, 'length': 185.0, 'mass': 99....\n",
       "1       {'genetic': 86.0, 'length': 172.0, 'mass': 105...\n",
       "2       {'genetic': 83.3, 'length': 176.0, 'mass': 111...\n",
       "3       {'genetic': 82.8, 'length': 164.0, 'mass': 111...\n",
       "4       {'genetic': 78.7, 'length': 178.0, 'mass': 71....\n",
       "                              ...                        \n",
       "4091    {'genetic': 80.3, 'length': 176.0, 'mass': 115...\n",
       "4092    {'genetic': 75.3, 'length': 162.0, 'mass': 129...\n",
       "4093    {'genetic': 93.1, 'length': 189.0, 'mass': 115...\n",
       "4094    {'genetic': 77.9, 'length': 170.0, 'mass': 90....\n",
       "4095    {'genetic': 101.3, 'length': 188.0, 'mass': 12...\n",
       "Name: data, Length: 4096, dtype: object"
      ]
     },
     "execution_count": 46,
     "metadata": {},
     "output_type": "execute_result"
    }
   ],
   "source": [
    "df_part"
   ]
  },
  {
   "cell_type": "code",
   "execution_count": 47,
   "id": "ddee76c1-16ec-407b-b33d-3803d71985ae",
   "metadata": {
    "tags": []
   },
   "outputs": [],
   "source": [
    "dict1 = df[\"data\"].to_dict()"
   ]
  },
  {
   "cell_type": "code",
   "execution_count": 48,
   "id": "72055398-f4c8-4e1c-be04-337acffcfc16",
   "metadata": {
    "tags": []
   },
   "outputs": [],
   "source": [
    "# check on first dict\n",
    "dict2 = dict1[0]"
   ]
  },
  {
   "cell_type": "code",
   "execution_count": 49,
   "id": "de53d5ee-bffa-4913-9b4d-c026d0b88244",
   "metadata": {
    "tags": []
   },
   "outputs": [
    {
     "data": {
      "text/plain": [
       "{'genetic': 73.9,\n",
       " 'length': 185.0,\n",
       " 'mass': 99.7,\n",
       " 'exercise': 0.9,\n",
       " 'smoking': 0.0,\n",
       " 'alcohol': 2.4,\n",
       " 'sugar': 6.9,\n",
       " 'lifespan': 73.1}"
      ]
     },
     "execution_count": 49,
     "metadata": {},
     "output_type": "execute_result"
    }
   ],
   "source": [
    "dict2"
   ]
  },
  {
   "cell_type": "code",
   "execution_count": 50,
   "id": "ae456e20-6863-4146-9e2d-c8193ce56711",
   "metadata": {
    "tags": []
   },
   "outputs": [
    {
     "data": {
      "text/plain": [
       "4096"
      ]
     },
     "execution_count": 50,
     "metadata": {},
     "output_type": "execute_result"
    }
   ],
   "source": [
    "len(dict1)"
   ]
  },
  {
   "cell_type": "code",
   "execution_count": 51,
   "id": "c54770e1-d4d6-46b2-8c65-b2d7b120dc91",
   "metadata": {
    "tags": []
   },
   "outputs": [],
   "source": [
    "# new_df = dict1(columns=['genetic', 'length', 'mass', 'exercise', 'smoking', 'alcohol', 'sugar', 'lifespan'])\n",
    "\n",
    "df_new = pd.DataFrame.from_dict(dict1)"
   ]
  },
  {
   "cell_type": "code",
   "execution_count": 52,
   "id": "4cd4bfa1-5ac2-45d7-9f2d-d47350b25b19",
   "metadata": {
    "tags": []
   },
   "outputs": [],
   "source": [
    "df_new2 = pd.DataFrame.transpose(df_new)"
   ]
  },
  {
   "cell_type": "code",
   "execution_count": 53,
   "id": "30c816ce-8da3-4a05-88d2-908caf7a71ad",
   "metadata": {
    "tags": []
   },
   "outputs": [
    {
     "data": {
      "text/html": [
       "<div>\n",
       "<style scoped>\n",
       "    .dataframe tbody tr th:only-of-type {\n",
       "        vertical-align: middle;\n",
       "    }\n",
       "\n",
       "    .dataframe tbody tr th {\n",
       "        vertical-align: top;\n",
       "    }\n",
       "\n",
       "    .dataframe thead th {\n",
       "        text-align: right;\n",
       "    }\n",
       "</style>\n",
       "<table border=\"1\" class=\"dataframe\">\n",
       "  <thead>\n",
       "    <tr style=\"text-align: right;\">\n",
       "      <th></th>\n",
       "      <th>genetic</th>\n",
       "      <th>length</th>\n",
       "      <th>mass</th>\n",
       "      <th>exercise</th>\n",
       "      <th>smoking</th>\n",
       "      <th>alcohol</th>\n",
       "      <th>sugar</th>\n",
       "      <th>lifespan</th>\n",
       "    </tr>\n",
       "  </thead>\n",
       "  <tbody>\n",
       "    <tr>\n",
       "      <th>0</th>\n",
       "      <td>73.9</td>\n",
       "      <td>185.0</td>\n",
       "      <td>99.7</td>\n",
       "      <td>0.9</td>\n",
       "      <td>0.0</td>\n",
       "      <td>2.4</td>\n",
       "      <td>6.9</td>\n",
       "      <td>73.1</td>\n",
       "    </tr>\n",
       "    <tr>\n",
       "      <th>1</th>\n",
       "      <td>86.0</td>\n",
       "      <td>172.0</td>\n",
       "      <td>105.4</td>\n",
       "      <td>1.8</td>\n",
       "      <td>8.1</td>\n",
       "      <td>0.4</td>\n",
       "      <td>4.2</td>\n",
       "      <td>85.0</td>\n",
       "    </tr>\n",
       "    <tr>\n",
       "      <th>2</th>\n",
       "      <td>83.3</td>\n",
       "      <td>176.0</td>\n",
       "      <td>111.4</td>\n",
       "      <td>1.1</td>\n",
       "      <td>0.8</td>\n",
       "      <td>4.6</td>\n",
       "      <td>7.5</td>\n",
       "      <td>81.6</td>\n",
       "    </tr>\n",
       "    <tr>\n",
       "      <th>3</th>\n",
       "      <td>82.8</td>\n",
       "      <td>164.0</td>\n",
       "      <td>111.4</td>\n",
       "      <td>4.7</td>\n",
       "      <td>11.8</td>\n",
       "      <td>1.0</td>\n",
       "      <td>2.9</td>\n",
       "      <td>81.0</td>\n",
       "    </tr>\n",
       "    <tr>\n",
       "      <th>4</th>\n",
       "      <td>78.7</td>\n",
       "      <td>178.0</td>\n",
       "      <td>71.6</td>\n",
       "      <td>1.5</td>\n",
       "      <td>8.3</td>\n",
       "      <td>4.9</td>\n",
       "      <td>5.5</td>\n",
       "      <td>75.0</td>\n",
       "    </tr>\n",
       "    <tr>\n",
       "      <th>...</th>\n",
       "      <td>...</td>\n",
       "      <td>...</td>\n",
       "      <td>...</td>\n",
       "      <td>...</td>\n",
       "      <td>...</td>\n",
       "      <td>...</td>\n",
       "      <td>...</td>\n",
       "      <td>...</td>\n",
       "    </tr>\n",
       "    <tr>\n",
       "      <th>4091</th>\n",
       "      <td>80.3</td>\n",
       "      <td>176.0</td>\n",
       "      <td>115.9</td>\n",
       "      <td>3.7</td>\n",
       "      <td>0.1</td>\n",
       "      <td>5.6</td>\n",
       "      <td>5.8</td>\n",
       "      <td>80.7</td>\n",
       "    </tr>\n",
       "    <tr>\n",
       "      <th>4092</th>\n",
       "      <td>75.3</td>\n",
       "      <td>162.0</td>\n",
       "      <td>129.6</td>\n",
       "      <td>3.6</td>\n",
       "      <td>6.2</td>\n",
       "      <td>5.6</td>\n",
       "      <td>7.6</td>\n",
       "      <td>71.1</td>\n",
       "    </tr>\n",
       "    <tr>\n",
       "      <th>4093</th>\n",
       "      <td>93.1</td>\n",
       "      <td>189.0</td>\n",
       "      <td>115.3</td>\n",
       "      <td>2.7</td>\n",
       "      <td>9.4</td>\n",
       "      <td>4.9</td>\n",
       "      <td>6.6</td>\n",
       "      <td>90.0</td>\n",
       "    </tr>\n",
       "    <tr>\n",
       "      <th>4094</th>\n",
       "      <td>77.9</td>\n",
       "      <td>170.0</td>\n",
       "      <td>90.8</td>\n",
       "      <td>2.3</td>\n",
       "      <td>13.2</td>\n",
       "      <td>0.8</td>\n",
       "      <td>6.2</td>\n",
       "      <td>75.9</td>\n",
       "    </tr>\n",
       "    <tr>\n",
       "      <th>4095</th>\n",
       "      <td>101.3</td>\n",
       "      <td>188.0</td>\n",
       "      <td>129.2</td>\n",
       "      <td>1.2</td>\n",
       "      <td>8.2</td>\n",
       "      <td>6.0</td>\n",
       "      <td>6.2</td>\n",
       "      <td>96.9</td>\n",
       "    </tr>\n",
       "  </tbody>\n",
       "</table>\n",
       "<p>4096 rows × 8 columns</p>\n",
       "</div>"
      ],
      "text/plain": [
       "      genetic  length   mass  exercise  smoking  alcohol  sugar  lifespan\n",
       "0        73.9   185.0   99.7       0.9      0.0      2.4    6.9      73.1\n",
       "1        86.0   172.0  105.4       1.8      8.1      0.4    4.2      85.0\n",
       "2        83.3   176.0  111.4       1.1      0.8      4.6    7.5      81.6\n",
       "3        82.8   164.0  111.4       4.7     11.8      1.0    2.9      81.0\n",
       "4        78.7   178.0   71.6       1.5      8.3      4.9    5.5      75.0\n",
       "...       ...     ...    ...       ...      ...      ...    ...       ...\n",
       "4091     80.3   176.0  115.9       3.7      0.1      5.6    5.8      80.7\n",
       "4092     75.3   162.0  129.6       3.6      6.2      5.6    7.6      71.1\n",
       "4093     93.1   189.0  115.3       2.7      9.4      4.9    6.6      90.0\n",
       "4094     77.9   170.0   90.8       2.3     13.2      0.8    6.2      75.9\n",
       "4095    101.3   188.0  129.2       1.2      8.2      6.0    6.2      96.9\n",
       "\n",
       "[4096 rows x 8 columns]"
      ]
     },
     "execution_count": 53,
     "metadata": {},
     "output_type": "execute_result"
    }
   ],
   "source": [
    "df_new2"
   ]
  },
  {
   "cell_type": "markdown",
   "id": "0d63c78d-f840-4121-84b4-f933db4b8ca5",
   "metadata": {},
   "source": [
    "<h2>Data Collection</h2>\n",
    "<img width=\"30%\" height=\"30%\" src=\"../pics/collect.jpg\"/>\n",
    "<p>De data kan op 3 manieren verzameld worden, dat zijn (op volgorde van kwaliteit van de verzamelingsmethode):</p>"
   ]
  },
  {
   "cell_type": "markdown",
   "id": "445ee668-ee99-4807-b577-9e15eb5c3cfb",
   "metadata": {},
   "source": [
    "<h3>1. Query SQLite Database</h3>"
   ]
  },
  {
   "cell_type": "code",
   "execution_count": null,
   "id": "d3e140cd-985e-4dfe-839f-4bc1b080f6f3",
   "metadata": {},
   "outputs": [],
   "source": []
  },
  {
   "cell_type": "code",
   "execution_count": 54,
   "id": "3f768681-793a-40d2-a1c5-0b51e9e45e46",
   "metadata": {
    "tags": []
   },
   "outputs": [],
   "source": [
    "dbConnection = sqlite3.connect(\"rest_server_new/rest_server_new/medisch_centrum_randstad/db.sqlite3\")"
   ]
  },
  {
   "cell_type": "code",
   "execution_count": 55,
   "id": "d99d4ee2-7e0c-4aa4-b041-01648087a4c7",
   "metadata": {
    "tags": []
   },
   "outputs": [
    {
     "data": {
      "text/plain": [
       "4096"
      ]
     },
     "execution_count": 55,
     "metadata": {},
     "output_type": "execute_result"
    }
   ],
   "source": [
    "df_new2.to_sql('cleaned_data_2', dbConnection, if_exists='replace', index = False)"
   ]
  },
  {
   "cell_type": "code",
   "execution_count": 27,
   "id": "7bad6aec-586a-47d2-9a46-a74f2f0f8b5b",
   "metadata": {
    "tags": []
   },
   "outputs": [],
   "source": [
    "dbConnection.close()"
   ]
  },
  {
   "cell_type": "markdown",
   "id": "2c8bb809-230b-4521-bc94-947a5fd27115",
   "metadata": {},
   "source": [
    "<h3>2. Collect Data from REST API Server</h3>"
   ]
  },
  {
   "cell_type": "code",
   "execution_count": 70,
   "id": "595dd943-520d-4d28-a6dc-9338f8cd4dae",
   "metadata": {},
   "outputs": [],
   "source": [
    "#page1 = requests.get(url).json()"
   ]
  },
  {
   "cell_type": "code",
   "execution_count": 71,
   "id": "cf94655d-e309-4901-8a62-7956e5e015bd",
   "metadata": {
    "tags": []
   },
   "outputs": [],
   "source": [
    "#dfconnection.close()"
   ]
  },
  {
   "cell_type": "markdown",
   "id": "17dfd6a7-8733-4438-9193-5d0d49289ab0",
   "metadata": {},
   "source": [
    "<h3>3. Collect Data from CSV</h3>"
   ]
  },
  {
   "cell_type": "code",
   "execution_count": 72,
   "id": "50ef318a-742f-43f4-a1af-13a3d20ed262",
   "metadata": {
    "tags": []
   },
   "outputs": [],
   "source": [
    "#dfFromCSV = pd.read_csv(csvFile)"
   ]
  }
 ],
 "metadata": {
  "kernelspec": {
   "display_name": "Python 3 (ipykernel)",
   "language": "python",
   "name": "python3"
  },
  "language_info": {
   "codemirror_mode": {
    "name": "ipython",
    "version": 3
   },
   "file_extension": ".py",
   "mimetype": "text/x-python",
   "name": "python",
   "nbconvert_exporter": "python",
   "pygments_lexer": "ipython3",
   "version": "3.10.10"
  }
 },
 "nbformat": 4,
 "nbformat_minor": 5
}
