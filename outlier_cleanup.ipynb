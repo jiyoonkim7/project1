{
 "cells": [
  {
   "cell_type": "code",
   "execution_count": 1,
   "id": "407b165d-5c83-4657-b9b0-bd4bd9288711",
   "metadata": {
    "tags": []
   },
   "outputs": [],
   "source": [
    "import requests\n",
    "import json\n",
    "import pandas as pd\n",
    "import numpy as np\n",
    "import seaborn as sns\n",
    "import matplotlib.pyplot as plt\n",
    "%matplotlib inline\n",
    "sns.set(color_codes=True)"
   ]
  },
  {
   "cell_type": "markdown",
   "id": "14809477-4443-4efb-91fb-0d9e46884bb1",
   "metadata": {},
   "source": [
    "Step 1. Get the data from API and make a dataframe"
   ]
  },
  {
   "cell_type": "code",
   "execution_count": 2,
   "id": "590d8202-f751-459b-8c8a-e11e0e5faa6c",
   "metadata": {
    "tags": []
   },
   "outputs": [],
   "source": [
    "# Make request to an URL\n",
    "response = requests.get('http://localhost:8080/medish_centrum_randstad/api/netlify?page=1')"
   ]
  },
  {
   "cell_type": "code",
   "execution_count": 5,
   "id": "05041a47-05a2-458d-b8ec-135690d68568",
   "metadata": {
    "tags": []
   },
   "outputs": [
    {
     "name": "stdout",
     "output_type": "stream",
     "text": [
      "<class 'dict'>\n",
      "6\n"
     ]
    }
   ],
   "source": [
    "file_contents= response.json()  #dictionary\n",
    "print(type(file_contents))\n",
    "print(len(file_contents))"
   ]
  },
  {
   "cell_type": "code",
   "execution_count": 6,
   "id": "738b68a4-3177-49e6-811d-ac1c151d969b",
   "metadata": {
    "tags": []
   },
   "outputs": [
    {
     "data": {
      "text/html": [
       "<div>\n",
       "<style scoped>\n",
       "    .dataframe tbody tr th:only-of-type {\n",
       "        vertical-align: middle;\n",
       "    }\n",
       "\n",
       "    .dataframe tbody tr th {\n",
       "        vertical-align: top;\n",
       "    }\n",
       "\n",
       "    .dataframe thead th {\n",
       "        text-align: right;\n",
       "    }\n",
       "</style>\n",
       "<table border=\"1\" class=\"dataframe\">\n",
       "  <thead>\n",
       "    <tr style=\"text-align: right;\">\n",
       "      <th></th>\n",
       "      <th>genetic</th>\n",
       "      <th>length</th>\n",
       "      <th>mass</th>\n",
       "      <th>exercise</th>\n",
       "      <th>smoking</th>\n",
       "      <th>alcohol</th>\n",
       "      <th>sugar</th>\n",
       "      <th>lifespan</th>\n",
       "    </tr>\n",
       "  </thead>\n",
       "  <tbody>\n",
       "    <tr>\n",
       "      <th>0</th>\n",
       "      <td>84.0</td>\n",
       "      <td>180.0</td>\n",
       "      <td>90.0</td>\n",
       "      <td>2.0</td>\n",
       "      <td>9.0</td>\n",
       "      <td>1.0</td>\n",
       "      <td>2</td>\n",
       "      <td>86</td>\n",
       "    </tr>\n",
       "    <tr>\n",
       "      <th>1</th>\n",
       "      <td>84.0</td>\n",
       "      <td>204.0</td>\n",
       "      <td>79.0</td>\n",
       "      <td>3.0</td>\n",
       "      <td>2.0</td>\n",
       "      <td>7.0</td>\n",
       "      <td>3</td>\n",
       "      <td>100</td>\n",
       "    </tr>\n",
       "    <tr>\n",
       "      <th>2</th>\n",
       "      <td>84.0</td>\n",
       "      <td>174.0</td>\n",
       "      <td>74.0</td>\n",
       "      <td>3.0</td>\n",
       "      <td>20.0</td>\n",
       "      <td>3.0</td>\n",
       "      <td>2</td>\n",
       "      <td>87</td>\n",
       "    </tr>\n",
       "    <tr>\n",
       "      <th>3</th>\n",
       "      <td>84.0</td>\n",
       "      <td>187.0</td>\n",
       "      <td>78.0</td>\n",
       "      <td>2.0</td>\n",
       "      <td>6.0</td>\n",
       "      <td>5.0</td>\n",
       "      <td>3</td>\n",
       "      <td>91</td>\n",
       "    </tr>\n",
       "    <tr>\n",
       "      <th>4</th>\n",
       "      <td>84.0</td>\n",
       "      <td>187.0</td>\n",
       "      <td>89.0</td>\n",
       "      <td>2.0</td>\n",
       "      <td>12.0</td>\n",
       "      <td>0.0</td>\n",
       "      <td>2</td>\n",
       "      <td>83</td>\n",
       "    </tr>\n",
       "  </tbody>\n",
       "</table>\n",
       "</div>"
      ],
      "text/plain": [
       "   genetic  length  mass  exercise  smoking  alcohol  sugar  lifespan\n",
       "0     84.0   180.0  90.0       2.0      9.0      1.0      2        86\n",
       "1     84.0   204.0  79.0       3.0      2.0      7.0      3       100\n",
       "2     84.0   174.0  74.0       3.0     20.0      3.0      2        87\n",
       "3     84.0   187.0  78.0       2.0      6.0      5.0      3        91\n",
       "4     84.0   187.0  89.0       2.0     12.0      0.0      2        83"
      ]
     },
     "metadata": {},
     "output_type": "display_data"
    },
    {
     "data": {
      "text/plain": [
       "(8192, 8)"
      ]
     },
     "metadata": {},
     "output_type": "display_data"
    }
   ],
   "source": [
    "df = pd.DataFrame.from_dict(file_contents['data']) #all the needed info was condensed into one data column called 'data'\n",
    "display(df.head())\n",
    "display(df.shape)"
   ]
  },
  {
   "cell_type": "code",
   "execution_count": 7,
   "id": "6096056c-9ea0-49d0-9d09-dda35e71726f",
   "metadata": {
    "tags": []
   },
   "outputs": [
    {
     "name": "stdout",
     "output_type": "stream",
     "text": [
      "      genetic  length  mass  exercise  smoking  alcohol  sugar  lifespan\n",
      "0        84.0   180.0  90.0       2.0      9.0      1.0      2        86\n",
      "1        84.0   204.0  79.0       3.0      2.0      7.0      3       100\n",
      "2        84.0   174.0  74.0       3.0     20.0      3.0      2        87\n",
      "3        84.0   187.0  78.0       2.0      6.0      5.0      3        91\n",
      "4        84.0   187.0  89.0       2.0     12.0      0.0      2        83\n",
      "...       ...     ...   ...       ...      ...      ...    ...       ...\n",
      "8187     82.0   185.0  67.0       3.0     11.0      8.0      2        90\n",
      "8188     82.0   183.0  72.0       2.0      1.0      5.0      4        88\n",
      "8189     83.0   192.0  92.0       1.0     22.0      2.0      4        62\n",
      "8190     81.0   175.0  60.0       3.0     13.0      7.0      2        93\n",
      "8191     83.0   204.0  76.0       3.0      8.0      8.0      1        96\n",
      "\n",
      "[8185 rows x 8 columns]\n"
     ]
    }
   ],
   "source": [
    "df= df[['genetic','length','mass','exercise','smoking','alcohol','sugar','lifespan']]\n",
    "df.dropna(inplace=True)\n",
    "print(df)"
   ]
  },
  {
   "cell_type": "markdown",
   "id": "5d2f001d-6343-4dfe-9967-08715b9dde0d",
   "metadata": {},
   "source": [
    "Step 3. Define BMI and Exploratory Data Analysis "
   ]
  },
  {
   "cell_type": "code",
   "execution_count": 8,
   "id": "8ce4164a-7fa1-49c7-a9f8-5ae97a5ebaf1",
   "metadata": {
    "tags": []
   },
   "outputs": [
    {
     "data": {
      "text/html": [
       "<div>\n",
       "<style scoped>\n",
       "    .dataframe tbody tr th:only-of-type {\n",
       "        vertical-align: middle;\n",
       "    }\n",
       "\n",
       "    .dataframe tbody tr th {\n",
       "        vertical-align: top;\n",
       "    }\n",
       "\n",
       "    .dataframe thead th {\n",
       "        text-align: right;\n",
       "    }\n",
       "</style>\n",
       "<table border=\"1\" class=\"dataframe\">\n",
       "  <thead>\n",
       "    <tr style=\"text-align: right;\">\n",
       "      <th></th>\n",
       "      <th>genetic</th>\n",
       "      <th>length</th>\n",
       "      <th>mass</th>\n",
       "      <th>exercise</th>\n",
       "      <th>smoking</th>\n",
       "      <th>alcohol</th>\n",
       "      <th>sugar</th>\n",
       "      <th>lifespan</th>\n",
       "      <th>BMI</th>\n",
       "    </tr>\n",
       "  </thead>\n",
       "  <tbody>\n",
       "    <tr>\n",
       "      <th>0</th>\n",
       "      <td>84.0</td>\n",
       "      <td>180.0</td>\n",
       "      <td>90.0</td>\n",
       "      <td>2.0</td>\n",
       "      <td>9.0</td>\n",
       "      <td>1.0</td>\n",
       "      <td>2</td>\n",
       "      <td>86</td>\n",
       "      <td>27.777778</td>\n",
       "    </tr>\n",
       "    <tr>\n",
       "      <th>1</th>\n",
       "      <td>84.0</td>\n",
       "      <td>204.0</td>\n",
       "      <td>79.0</td>\n",
       "      <td>3.0</td>\n",
       "      <td>2.0</td>\n",
       "      <td>7.0</td>\n",
       "      <td>3</td>\n",
       "      <td>100</td>\n",
       "      <td>18.983083</td>\n",
       "    </tr>\n",
       "    <tr>\n",
       "      <th>2</th>\n",
       "      <td>84.0</td>\n",
       "      <td>174.0</td>\n",
       "      <td>74.0</td>\n",
       "      <td>3.0</td>\n",
       "      <td>20.0</td>\n",
       "      <td>3.0</td>\n",
       "      <td>2</td>\n",
       "      <td>87</td>\n",
       "      <td>24.441802</td>\n",
       "    </tr>\n",
       "    <tr>\n",
       "      <th>3</th>\n",
       "      <td>84.0</td>\n",
       "      <td>187.0</td>\n",
       "      <td>78.0</td>\n",
       "      <td>2.0</td>\n",
       "      <td>6.0</td>\n",
       "      <td>5.0</td>\n",
       "      <td>3</td>\n",
       "      <td>91</td>\n",
       "      <td>22.305471</td>\n",
       "    </tr>\n",
       "    <tr>\n",
       "      <th>4</th>\n",
       "      <td>84.0</td>\n",
       "      <td>187.0</td>\n",
       "      <td>89.0</td>\n",
       "      <td>2.0</td>\n",
       "      <td>12.0</td>\n",
       "      <td>0.0</td>\n",
       "      <td>2</td>\n",
       "      <td>83</td>\n",
       "      <td>25.451114</td>\n",
       "    </tr>\n",
       "  </tbody>\n",
       "</table>\n",
       "</div>"
      ],
      "text/plain": [
       "   genetic  length  mass  exercise  smoking  alcohol  sugar  lifespan  \\\n",
       "0     84.0   180.0  90.0       2.0      9.0      1.0      2        86   \n",
       "1     84.0   204.0  79.0       3.0      2.0      7.0      3       100   \n",
       "2     84.0   174.0  74.0       3.0     20.0      3.0      2        87   \n",
       "3     84.0   187.0  78.0       2.0      6.0      5.0      3        91   \n",
       "4     84.0   187.0  89.0       2.0     12.0      0.0      2        83   \n",
       "\n",
       "         BMI  \n",
       "0  27.777778  \n",
       "1  18.983083  \n",
       "2  24.441802  \n",
       "3  22.305471  \n",
       "4  25.451114  "
      ]
     },
     "metadata": {},
     "output_type": "display_data"
    }
   ],
   "source": [
    "#Define BMI\n",
    "df['BMI'] = df['mass']/(df['length']/100)**2\n",
    "display(df.head())"
   ]
  },
  {
   "cell_type": "code",
   "execution_count": 9,
   "id": "7687694d-0a0c-4893-bc36-cccf42269370",
   "metadata": {
    "tags": []
   },
   "outputs": [
    {
     "data": {
      "text/html": [
       "<div>\n",
       "<style scoped>\n",
       "    .dataframe tbody tr th:only-of-type {\n",
       "        vertical-align: middle;\n",
       "    }\n",
       "\n",
       "    .dataframe tbody tr th {\n",
       "        vertical-align: top;\n",
       "    }\n",
       "\n",
       "    .dataframe thead th {\n",
       "        text-align: right;\n",
       "    }\n",
       "</style>\n",
       "<table border=\"1\" class=\"dataframe\">\n",
       "  <thead>\n",
       "    <tr style=\"text-align: right;\">\n",
       "      <th></th>\n",
       "      <th>genetic</th>\n",
       "      <th>length</th>\n",
       "      <th>mass</th>\n",
       "      <th>exercise</th>\n",
       "      <th>smoking</th>\n",
       "      <th>alcohol</th>\n",
       "      <th>sugar</th>\n",
       "      <th>lifespan</th>\n",
       "      <th>BMI</th>\n",
       "    </tr>\n",
       "  </thead>\n",
       "  <tbody>\n",
       "    <tr>\n",
       "      <th>0</th>\n",
       "      <td>84.0</td>\n",
       "      <td>180.0</td>\n",
       "      <td>90.0</td>\n",
       "      <td>2.0</td>\n",
       "      <td>9.0</td>\n",
       "      <td>1.0</td>\n",
       "      <td>2</td>\n",
       "      <td>86</td>\n",
       "      <td>27.777778</td>\n",
       "    </tr>\n",
       "    <tr>\n",
       "      <th>1</th>\n",
       "      <td>84.0</td>\n",
       "      <td>204.0</td>\n",
       "      <td>79.0</td>\n",
       "      <td>3.0</td>\n",
       "      <td>2.0</td>\n",
       "      <td>7.0</td>\n",
       "      <td>3</td>\n",
       "      <td>100</td>\n",
       "      <td>18.983083</td>\n",
       "    </tr>\n",
       "    <tr>\n",
       "      <th>2</th>\n",
       "      <td>84.0</td>\n",
       "      <td>174.0</td>\n",
       "      <td>74.0</td>\n",
       "      <td>3.0</td>\n",
       "      <td>20.0</td>\n",
       "      <td>3.0</td>\n",
       "      <td>2</td>\n",
       "      <td>87</td>\n",
       "      <td>24.441802</td>\n",
       "    </tr>\n",
       "    <tr>\n",
       "      <th>3</th>\n",
       "      <td>84.0</td>\n",
       "      <td>187.0</td>\n",
       "      <td>78.0</td>\n",
       "      <td>2.0</td>\n",
       "      <td>6.0</td>\n",
       "      <td>5.0</td>\n",
       "      <td>3</td>\n",
       "      <td>91</td>\n",
       "      <td>22.305471</td>\n",
       "    </tr>\n",
       "    <tr>\n",
       "      <th>4</th>\n",
       "      <td>84.0</td>\n",
       "      <td>187.0</td>\n",
       "      <td>89.0</td>\n",
       "      <td>2.0</td>\n",
       "      <td>12.0</td>\n",
       "      <td>0.0</td>\n",
       "      <td>2</td>\n",
       "      <td>83</td>\n",
       "      <td>25.451114</td>\n",
       "    </tr>\n",
       "  </tbody>\n",
       "</table>\n",
       "</div>"
      ],
      "text/plain": [
       "   genetic  length  mass  exercise  smoking  alcohol  sugar  lifespan  \\\n",
       "0     84.0   180.0  90.0       2.0      9.0      1.0      2        86   \n",
       "1     84.0   204.0  79.0       3.0      2.0      7.0      3       100   \n",
       "2     84.0   174.0  74.0       3.0     20.0      3.0      2        87   \n",
       "3     84.0   187.0  78.0       2.0      6.0      5.0      3        91   \n",
       "4     84.0   187.0  89.0       2.0     12.0      0.0      2        83   \n",
       "\n",
       "         BMI  \n",
       "0  27.777778  \n",
       "1  18.983083  \n",
       "2  24.441802  \n",
       "3  22.305471  \n",
       "4  25.451114  "
      ]
     },
     "execution_count": 9,
     "metadata": {},
     "output_type": "execute_result"
    }
   ],
   "source": [
    "#Why is it missing? Is it random?\n",
    "#Impute or delete?\n",
    "df = df.dropna()\n",
    "df.head()"
   ]
  },
  {
   "cell_type": "markdown",
   "id": "b6eb1b3f-a7ef-4541-bb60-d98bd1d652d2",
   "metadata": {},
   "source": [
    "From boxplot we can check the outliers. I tried 2 ways to remove the outliers. One way is using IQR. The ohter way is using DBSCAN cluster. According to correlation gradient there were no differences in coreelation.  Therefore outliers does not make any difference. I decided to keep the outliers."
   ]
  },
  {
   "cell_type": "code",
   "execution_count": 12,
   "id": "898d1d89-0ba7-4e50-a534-144ea8c08633",
   "metadata": {
    "tags": []
   },
   "outputs": [
    {
     "data": {
      "text/plain": [
       "<AxesSubplot: ylabel='exercise'>"
      ]
     },
     "execution_count": 12,
     "metadata": {},
     "output_type": "execute_result"
    },
    {
     "data": {
      "image/png": "[encoded data removed]",
      "text/plain": [
       "<Figure size 640x480 with 1 Axes>"
      ]
     },
     "metadata": {},
     "output_type": "display_data"
    }
   ],
   "source": [
    "sns.boxplot(y=df['exercise'])"
   ]
  },
  {
   "cell_type": "markdown",
   "id": "36938ce6-4cce-40a2-991c-88680a1b83d3",
   "metadata": {
    "tags": []
   },
   "source": [
    "#Q1=df['exercise'].quantile(0.25)\n",
    "#print(\"Q1:\", Q1)"
   ]
  },
  {
   "cell_type": "markdown",
   "id": "cadd197b-34d5-4600-96c6-af80de48615a",
   "metadata": {
    "tags": []
   },
   "source": [
    "#Q3=df['exercise'].quantile(0.75)\n",
    "#print(\"Q3:\", Q3)"
   ]
  },
  {
   "cell_type": "markdown",
   "id": "8380b022-3fb6-44a2-838c-c7443e05531e",
   "metadata": {
    "tags": []
   },
   "source": [
    "#IQR=Q3-Q1\n",
    "#print(\"IQR: \", IQR)"
   ]
  },
  {
   "cell_type": "markdown",
   "id": "3cbbbe9d-5d7e-4fb9-8944-eb519deb9ef5",
   "metadata": {
    "tags": []
   },
   "source": [
    "#lower_bound = Q1 - 1.5*IQR\n",
    "#print(\"Lower Bound:\", lower_bound)"
   ]
  },
  {
   "cell_type": "markdown",
   "id": "f4276788-9368-47f7-b0c4-6934cbc2f358",
   "metadata": {
    "tags": []
   },
   "source": [
    "#upper_bound = Q3 + 1.5*IQR\n",
    "#print(\"Upper Bound:\", upper_bound)"
   ]
  },
  {
   "cell_type": "raw",
   "id": "63b8af46-dabe-469d-944c-240f81ad832d",
   "metadata": {
    "tags": []
   },
   "source": [
    "#df_clean = df[(df['exercise']>lower_bound)&(df['exercise']<upper_bound)]\n",
    "#sns.boxplot(y = df_clean['exercise'])\n",
    "\n",
    "* Clean up outliers."
   ]
  },
  {
   "cell_type": "code",
   "execution_count": 13,
   "id": "9cd0d56e-1348-4d5c-8e49-c1d046226aa8",
   "metadata": {
    "tags": []
   },
   "outputs": [],
   "source": [
    "from sklearn.cluster import DBSCAN"
   ]
  },
  {
   "cell_type": "markdown",
   "id": "e00a4cbe-2091-4302-87a8-7cadcc0d5ede",
   "metadata": {},
   "source": [
    "DBSCAN, which stands for density-based spatial clustering of applications with noise, is an unsupervised clustering algorithm. This approach identifies any points that are loosely packed or sit alone outside of densely packed clusters as outliers."
   ]
  },
  {
   "cell_type": "code",
   "execution_count": 14,
   "id": "47e41f1a-f522-490d-bfe0-1442e01b75cb",
   "metadata": {
    "tags": []
   },
   "outputs": [],
   "source": [
    "X_train = df[['exercise','lifespan']]"
   ]
  },
  {
   "cell_type": "code",
   "execution_count": 15,
   "id": "40c343a7-ab58-4a24-bf83-4f4ef593a554",
   "metadata": {
    "tags": []
   },
   "outputs": [
    {
     "data": {
      "text/html": [
       "<style>#sk-container-id-1 {color: black;background-color: white;}#sk-container-id-1 pre{padding: 0;}#sk-container-id-1 div.sk-toggleable {background-color: white;}#sk-container-id-1 label.sk-toggleable__label {cursor: pointer;display: block;width: 100%;margin-bottom: 0;padding: 0.3em;box-sizing: border-box;text-align: center;}#sk-container-id-1 label.sk-toggleable__label-arrow:before {content: \"▸\";float: left;margin-right: 0.25em;color: #696969;}#sk-container-id-1 label.sk-toggleable__label-arrow:hover:before {color: black;}#sk-container-id-1 div.sk-estimator:hover label.sk-toggleable__label-arrow:before {color: black;}#sk-container-id-1 div.sk-toggleable__content {max-height: 0;max-width: 0;overflow: hidden;text-align: left;background-color: #f0f8ff;}#sk-container-id-1 div.sk-toggleable__content pre {margin: 0.2em;color: black;border-radius: 0.25em;background-color: #f0f8ff;}#sk-container-id-1 input.sk-toggleable__control:checked~div.sk-toggleable__content {max-height: 200px;max-width: 100%;overflow: auto;}#sk-container-id-1 input.sk-toggleable__control:checked~label.sk-toggleable__label-arrow:before {content: \"▾\";}#sk-container-id-1 div.sk-estimator input.sk-toggleable__control:checked~label.sk-toggleable__label {background-color: #d4ebff;}#sk-container-id-1 div.sk-label input.sk-toggleable__control:checked~label.sk-toggleable__label {background-color: #d4ebff;}#sk-container-id-1 input.sk-hidden--visually {border: 0;clip: rect(1px 1px 1px 1px);clip: rect(1px, 1px, 1px, 1px);height: 1px;margin: -1px;overflow: hidden;padding: 0;position: absolute;width: 1px;}#sk-container-id-1 div.sk-estimator {font-family: monospace;background-color: #f0f8ff;border: 1px dotted black;border-radius: 0.25em;box-sizing: border-box;margin-bottom: 0.5em;}#sk-container-id-1 div.sk-estimator:hover {background-color: #d4ebff;}#sk-container-id-1 div.sk-parallel-item::after {content: \"\";width: 100%;border-bottom: 1px solid gray;flex-grow: 1;}#sk-container-id-1 div.sk-label:hover label.sk-toggleable__label {background-color: #d4ebff;}#sk-container-id-1 div.sk-serial::before {content: \"\";position: absolute;border-left: 1px solid gray;box-sizing: border-box;top: 0;bottom: 0;left: 50%;z-index: 0;}#sk-container-id-1 div.sk-serial {display: flex;flex-direction: column;align-items: center;background-color: white;padding-right: 0.2em;padding-left: 0.2em;position: relative;}#sk-container-id-1 div.sk-item {position: relative;z-index: 1;}#sk-container-id-1 div.sk-parallel {display: flex;align-items: stretch;justify-content: center;background-color: white;position: relative;}#sk-container-id-1 div.sk-item::before, #sk-container-id-1 div.sk-parallel-item::before {content: \"\";position: absolute;border-left: 1px solid gray;box-sizing: border-box;top: 0;bottom: 0;left: 50%;z-index: -1;}#sk-container-id-1 div.sk-parallel-item {display: flex;flex-direction: column;z-index: 1;position: relative;background-color: white;}#sk-container-id-1 div.sk-parallel-item:first-child::after {align-self: flex-end;width: 50%;}#sk-container-id-1 div.sk-parallel-item:last-child::after {align-self: flex-start;width: 50%;}#sk-container-id-1 div.sk-parallel-item:only-child::after {width: 0;}#sk-container-id-1 div.sk-dashed-wrapped {border: 1px dashed gray;margin: 0 0.4em 0.5em 0.4em;box-sizing: border-box;padding-bottom: 0.4em;background-color: white;}#sk-container-id-1 div.sk-label label {font-family: monospace;font-weight: bold;display: inline-block;line-height: 1.2em;}#sk-container-id-1 div.sk-label-container {text-align: center;}#sk-container-id-1 div.sk-container {/* jupyter's `normalize.less` sets `[hidden] { display: none; }` but bootstrap.min.css set `[hidden] { display: none !important; }` so we also need the `!important` here to be able to override the default hidden behavior on the sphinx rendered scikit-learn.org. See: https://github.com/scikit-learn/scikit-learn/issues/21755 */display: inline-block !important;position: relative;}#sk-container-id-1 div.sk-text-repr-fallback {display: none;}</style><div id=\"sk-container-id-1\" class=\"sk-top-container\"><div class=\"sk-text-repr-fallback\"><pre>DBSCAN()</pre><b>In a Jupyter environment, please rerun this cell to show the HTML representation or trust the notebook. <br />On GitHub, the HTML representation is unable to render, please try loading this page with nbviewer.org.</b></div><div class=\"sk-container\" hidden><div class=\"sk-item\"><div class=\"sk-estimator sk-toggleable\"><input class=\"sk-toggleable__control sk-hidden--visually\" id=\"sk-estimator-id-1\" type=\"checkbox\" checked><label for=\"sk-estimator-id-1\" class=\"sk-toggleable__label sk-toggleable__label-arrow\">DBSCAN</label><div class=\"sk-toggleable__content\"><pre>DBSCAN()</pre></div></div></div></div></div>"
      ],
      "text/plain": [
       "DBSCAN()"
      ]
     },
     "execution_count": 15,
     "metadata": {},
     "output_type": "execute_result"
    }
   ],
   "source": [
    "model = DBSCAN()\n",
    "model.fit(X_train)"
   ]
  },
  {
   "cell_type": "code",
   "execution_count": 16,
   "id": "dad6d1f9-bc6a-473a-af40-dbbebf99d60c",
   "metadata": {
    "tags": []
   },
   "outputs": [
    {
     "data": {
      "image/png": "[encoded data removed]",
      "text/plain": [
       "<Figure size 640x480 with 1 Axes>"
      ]
     },
     "metadata": {},
     "output_type": "display_data"
    }
   ],
   "source": [
    "cluster_labels = model.labels_\n",
    "plt.scatter(df[\"exercise\"], df[\"lifespan\"], c = cluster_labels)\n",
    "plt.show()"
   ]
  },
  {
   "cell_type": "code",
   "execution_count": 17,
   "id": "e306b36c-b704-4fc2-8911-a87e80e4a30b",
   "metadata": {
    "tags": []
   },
   "outputs": [],
   "source": [
    "df['labels'] = cluster_labels"
   ]
  },
  {
   "cell_type": "code",
   "execution_count": 18,
   "id": "4eed09d4-ae4d-4c82-af82-e9f3aa996cd6",
   "metadata": {
    "tags": []
   },
   "outputs": [],
   "source": [
    "df_cluster_clean = df[df['labels'] != -1]"
   ]
  },
  {
   "cell_type": "markdown",
   "id": "ee825160-0874-4a88-b9fb-56ded911f95d",
   "metadata": {},
   "source": [
    "* Clean up outliers."
   ]
  },
  {
   "cell_type": "code",
   "execution_count": 19,
   "id": "37aac252-705c-406d-9e4b-8c5561b21db5",
   "metadata": {
    "tags": []
   },
   "outputs": [
    {
     "data": {
      "text/plain": [
       "<AxesSubplot: xlabel='exercise', ylabel='lifespan'>"
      ]
     },
     "execution_count": 19,
     "metadata": {},
     "output_type": "execute_result"
    },
    {
     "data": {
      "image/png": "[encoded data removed]",
      "text/plain": [
       "<Figure size 640x480 with 1 Axes>"
      ]
     },
     "metadata": {},
     "output_type": "display_data"
    }
   ],
   "source": [
    "sns.boxplot(data=df, y= 'lifespan', x='exercise')"
   ]
  },
  {
   "cell_type": "code",
   "execution_count": 25,
   "id": "7248cc7b-36b7-4b1f-be01-fafebbed2f6b",
   "metadata": {
    "tags": []
   },
   "outputs": [
    {
     "data": {
      "text/html": [
       "<style type=\"text/css\">\n",
       "#T_f704c_row0_col0, #T_f704c_row1_col1, #T_f704c_row2_col2, #T_f704c_row3_col3, #T_f704c_row4_col4, #T_f704c_row5_col5, #T_f704c_row6_col6, #T_f704c_row7_col7, #T_f704c_row8_col8 {\n",
       "  background-color: #053061;\n",
       "  color: #f1f1f1;\n",
       "}\n",
       "#T_f704c_row0_col1 {\n",
       "  background-color: #fdd9c4;\n",
       "  color: #000000;\n",
       "}\n",
       "#T_f704c_row0_col2 {\n",
       "  background-color: #c6413e;\n",
       "  color: #f1f1f1;\n",
       "}\n",
       "#T_f704c_row0_col3, #T_f704c_row2_col3, #T_f704c_row5_col3, #T_f704c_row7_col3 {\n",
       "  background-color: #730421;\n",
       "  color: #f1f1f1;\n",
       "}\n",
       "#T_f704c_row0_col4, #T_f704c_row1_col4, #T_f704c_row3_col4 {\n",
       "  background-color: #f7b99c;\n",
       "  color: #000000;\n",
       "}\n",
       "#T_f704c_row0_col5, #T_f704c_row1_col2, #T_f704c_row3_col5, #T_f704c_row4_col2 {\n",
       "  background-color: #cf5246;\n",
       "  color: #f1f1f1;\n",
       "}\n",
       "#T_f704c_row0_col6 {\n",
       "  background-color: #d7634f;\n",
       "  color: #f1f1f1;\n",
       "}\n",
       "#T_f704c_row0_col7, #T_f704c_row3_col1, #T_f704c_row4_col1, #T_f704c_row5_col7 {\n",
       "  background-color: #fcd7c2;\n",
       "  color: #000000;\n",
       "}\n",
       "#T_f704c_row0_col8 {\n",
       "  background-color: #fae7dc;\n",
       "  color: #000000;\n",
       "}\n",
       "#T_f704c_row1_col0 {\n",
       "  background-color: #6d0220;\n",
       "  color: #f1f1f1;\n",
       "}\n",
       "#T_f704c_row1_col3, #T_f704c_row6_col0 {\n",
       "  background-color: #6a011f;\n",
       "  color: #f1f1f1;\n",
       "}\n",
       "#T_f704c_row1_col5 {\n",
       "  background-color: #d05548;\n",
       "  color: #f1f1f1;\n",
       "}\n",
       "#T_f704c_row1_col6 {\n",
       "  background-color: #d55d4c;\n",
       "  color: #f1f1f1;\n",
       "}\n",
       "#T_f704c_row1_col7, #T_f704c_row2_col0, #T_f704c_row4_col0, #T_f704c_row4_col3, #T_f704c_row4_col8, #T_f704c_row6_col3, #T_f704c_row7_col0, #T_f704c_row7_col1, #T_f704c_row8_col2, #T_f704c_row8_col4, #T_f704c_row8_col5, #T_f704c_row8_col6 {\n",
       "  background-color: #67001f;\n",
       "  color: #f1f1f1;\n",
       "}\n",
       "#T_f704c_row1_col8 {\n",
       "  background-color: #f9ede5;\n",
       "  color: #000000;\n",
       "}\n",
       "#T_f704c_row2_col1, #T_f704c_row4_col7, #T_f704c_row6_col7 {\n",
       "  background-color: #fdddcb;\n",
       "  color: #000000;\n",
       "}\n",
       "#T_f704c_row2_col4 {\n",
       "  background-color: #f9c2a7;\n",
       "  color: #000000;\n",
       "}\n",
       "#T_f704c_row2_col5, #T_f704c_row4_col5 {\n",
       "  background-color: #ce4f45;\n",
       "  color: #f1f1f1;\n",
       "}\n",
       "#T_f704c_row2_col6, #T_f704c_row2_col8 {\n",
       "  background-color: #da6853;\n",
       "  color: #f1f1f1;\n",
       "}\n",
       "#T_f704c_row2_col7 {\n",
       "  background-color: #3783bb;\n",
       "  color: #f1f1f1;\n",
       "}\n",
       "#T_f704c_row3_col0, #T_f704c_row5_col0 {\n",
       "  background-color: #700320;\n",
       "  color: #f1f1f1;\n",
       "}\n",
       "#T_f704c_row3_col2, #T_f704c_row6_col8 {\n",
       "  background-color: #cb4942;\n",
       "  color: #f1f1f1;\n",
       "}\n",
       "#T_f704c_row3_col6, #T_f704c_row5_col8 {\n",
       "  background-color: #d6604d;\n",
       "  color: #f1f1f1;\n",
       "}\n",
       "#T_f704c_row3_col7, #T_f704c_row5_col1 {\n",
       "  background-color: #fddbc7;\n",
       "  color: #000000;\n",
       "}\n",
       "#T_f704c_row3_col8 {\n",
       "  background-color: #4c99c6;\n",
       "  color: #f1f1f1;\n",
       "}\n",
       "#T_f704c_row4_col6 {\n",
       "  background-color: #d86551;\n",
       "  color: #f1f1f1;\n",
       "}\n",
       "#T_f704c_row5_col2 {\n",
       "  background-color: #c94741;\n",
       "  color: #f1f1f1;\n",
       "}\n",
       "#T_f704c_row5_col4 {\n",
       "  background-color: #f8bda1;\n",
       "  color: #000000;\n",
       "}\n",
       "#T_f704c_row5_col6, #T_f704c_row7_col6 {\n",
       "  background-color: #dc6e57;\n",
       "  color: #f1f1f1;\n",
       "}\n",
       "#T_f704c_row6_col1 {\n",
       "  background-color: #fcd5bf;\n",
       "  color: #000000;\n",
       "}\n",
       "#T_f704c_row6_col2, #T_f704c_row7_col5 {\n",
       "  background-color: #cc4c44;\n",
       "  color: #f1f1f1;\n",
       "}\n",
       "#T_f704c_row6_col4 {\n",
       "  background-color: #f8bb9e;\n",
       "  color: #000000;\n",
       "}\n",
       "#T_f704c_row6_col5 {\n",
       "  background-color: #d25849;\n",
       "  color: #f1f1f1;\n",
       "}\n",
       "#T_f704c_row7_col2 {\n",
       "  background-color: #59a1ca;\n",
       "  color: #f1f1f1;\n",
       "}\n",
       "#T_f704c_row7_col4 {\n",
       "  background-color: #f9c4a9;\n",
       "  color: #000000;\n",
       "}\n",
       "#T_f704c_row7_col8, #T_f704c_row8_col0 {\n",
       "  background-color: #c84440;\n",
       "  color: #f1f1f1;\n",
       "}\n",
       "#T_f704c_row8_col1 {\n",
       "  background-color: #f5f6f7;\n",
       "  color: #000000;\n",
       "}\n",
       "#T_f704c_row8_col3 {\n",
       "  background-color: #9dcbe1;\n",
       "  color: #000000;\n",
       "}\n",
       "#T_f704c_row8_col7 {\n",
       "  background-color: #df765e;\n",
       "  color: #f1f1f1;\n",
       "}\n",
       "</style>\n",
       "<table id=\"T_f704c\">\n",
       "  <thead>\n",
       "    <tr>\n",
       "      <th class=\"blank level0\" >&nbsp;</th>\n",
       "      <th id=\"T_f704c_level0_col0\" class=\"col_heading level0 col0\" >genetic</th>\n",
       "      <th id=\"T_f704c_level0_col1\" class=\"col_heading level0 col1\" >length</th>\n",
       "      <th id=\"T_f704c_level0_col2\" class=\"col_heading level0 col2\" >mass</th>\n",
       "      <th id=\"T_f704c_level0_col3\" class=\"col_heading level0 col3\" >exercise</th>\n",
       "      <th id=\"T_f704c_level0_col4\" class=\"col_heading level0 col4\" >smoking</th>\n",
       "      <th id=\"T_f704c_level0_col5\" class=\"col_heading level0 col5\" >alcohol</th>\n",
       "      <th id=\"T_f704c_level0_col6\" class=\"col_heading level0 col6\" >sugar</th>\n",
       "      <th id=\"T_f704c_level0_col7\" class=\"col_heading level0 col7\" >BMI</th>\n",
       "      <th id=\"T_f704c_level0_col8\" class=\"col_heading level0 col8\" >lifespan</th>\n",
       "    </tr>\n",
       "  </thead>\n",
       "  <tbody>\n",
       "    <tr>\n",
       "      <th id=\"T_f704c_level0_row0\" class=\"row_heading level0 row0\" >genetic</th>\n",
       "      <td id=\"T_f704c_row0_col0\" class=\"data row0 col0\" >1.000000</td>\n",
       "      <td id=\"T_f704c_row0_col1\" class=\"data row0 col1\" >-0.002151</td>\n",
       "      <td id=\"T_f704c_row0_col2\" class=\"data row0 col2\" >-0.010059</td>\n",
       "      <td id=\"T_f704c_row0_col3\" class=\"data row0 col3\" >0.004464</td>\n",
       "      <td id=\"T_f704c_row0_col4\" class=\"data row0 col4\" >-0.011032</td>\n",
       "      <td id=\"T_f704c_row0_col5\" class=\"data row0 col5\" >0.003612</td>\n",
       "      <td id=\"T_f704c_row0_col6\" class=\"data row0 col6\" >-0.006626</td>\n",
       "      <td id=\"T_f704c_row0_col7\" class=\"data row0 col7\" >-0.008285</td>\n",
       "      <td id=\"T_f704c_row0_col8\" class=\"data row0 col8\" >0.152144</td>\n",
       "    </tr>\n",
       "    <tr>\n",
       "      <th id=\"T_f704c_level0_row1\" class=\"row_heading level0 row1\" >length</th>\n",
       "      <td id=\"T_f704c_row1_col0\" class=\"data row1 col0\" >-0.002151</td>\n",
       "      <td id=\"T_f704c_row1_col1\" class=\"data row1 col1\" >1.000000</td>\n",
       "      <td id=\"T_f704c_row1_col2\" class=\"data row1 col2\" >0.017750</td>\n",
       "      <td id=\"T_f704c_row1_col3\" class=\"data row1 col3\" >-0.007252</td>\n",
       "      <td id=\"T_f704c_row1_col4\" class=\"data row1 col4\" >-0.008966</td>\n",
       "      <td id=\"T_f704c_row1_col5\" class=\"data row1 col5\" >0.006750</td>\n",
       "      <td id=\"T_f704c_row1_col6\" class=\"data row1 col6\" >-0.015262</td>\n",
       "      <td id=\"T_f704c_row1_col7\" class=\"data row1 col7\" >-0.661776</td>\n",
       "      <td id=\"T_f704c_row1_col8\" class=\"data row1 col8\" >0.179911</td>\n",
       "    </tr>\n",
       "    <tr>\n",
       "      <th id=\"T_f704c_level0_row2\" class=\"row_heading level0 row2\" >mass</th>\n",
       "      <td id=\"T_f704c_row2_col0\" class=\"data row2 col0\" >-0.010059</td>\n",
       "      <td id=\"T_f704c_row2_col1\" class=\"data row2 col1\" >0.017750</td>\n",
       "      <td id=\"T_f704c_row2_col2\" class=\"data row2 col2\" >1.000000</td>\n",
       "      <td id=\"T_f704c_row2_col3\" class=\"data row2 col3\" >0.004304</td>\n",
       "      <td id=\"T_f704c_row2_col4\" class=\"data row2 col4\" >0.016148</td>\n",
       "      <td id=\"T_f704c_row2_col5\" class=\"data row2 col5\" >-0.002182</td>\n",
       "      <td id=\"T_f704c_row2_col6\" class=\"data row2 col6\" >0.006780</td>\n",
       "      <td id=\"T_f704c_row2_col7\" class=\"data row2 col7\" >0.726123</td>\n",
       "      <td id=\"T_f704c_row2_col8\" class=\"data row2 col8\" >-0.201487</td>\n",
       "    </tr>\n",
       "    <tr>\n",
       "      <th id=\"T_f704c_level0_row3\" class=\"row_heading level0 row3\" >exercise</th>\n",
       "      <td id=\"T_f704c_row3_col0\" class=\"data row3 col0\" >0.004464</td>\n",
       "      <td id=\"T_f704c_row3_col1\" class=\"data row3 col1\" >-0.007252</td>\n",
       "      <td id=\"T_f704c_row3_col2\" class=\"data row3 col2\" >0.004304</td>\n",
       "      <td id=\"T_f704c_row3_col3\" class=\"data row3 col3\" >1.000000</td>\n",
       "      <td id=\"T_f704c_row3_col4\" class=\"data row3 col4\" >-0.012758</td>\n",
       "      <td id=\"T_f704c_row3_col5\" class=\"data row3 col5\" >0.005955</td>\n",
       "      <td id=\"T_f704c_row3_col6\" class=\"data row3 col6\" >-0.009249</td>\n",
       "      <td id=\"T_f704c_row3_col7\" class=\"data row3 col7\" >0.005278</td>\n",
       "      <td id=\"T_f704c_row3_col8\" class=\"data row3 col8\" >0.677365</td>\n",
       "    </tr>\n",
       "    <tr>\n",
       "      <th id=\"T_f704c_level0_row4\" class=\"row_heading level0 row4\" >smoking</th>\n",
       "      <td id=\"T_f704c_row4_col0\" class=\"data row4 col0\" >-0.011032</td>\n",
       "      <td id=\"T_f704c_row4_col1\" class=\"data row4 col1\" >-0.008966</td>\n",
       "      <td id=\"T_f704c_row4_col2\" class=\"data row4 col2\" >0.016148</td>\n",
       "      <td id=\"T_f704c_row4_col3\" class=\"data row4 col3\" >-0.012758</td>\n",
       "      <td id=\"T_f704c_row4_col4\" class=\"data row4 col4\" >1.000000</td>\n",
       "      <td id=\"T_f704c_row4_col5\" class=\"data row4 col5\" >0.001413</td>\n",
       "      <td id=\"T_f704c_row4_col6\" class=\"data row4 col6\" >-0.001368</td>\n",
       "      <td id=\"T_f704c_row4_col7\" class=\"data row4 col7\" >0.019498</td>\n",
       "      <td id=\"T_f704c_row4_col8\" class=\"data row4 col8\" >-0.525613</td>\n",
       "    </tr>\n",
       "    <tr>\n",
       "      <th id=\"T_f704c_level0_row5\" class=\"row_heading level0 row5\" >alcohol</th>\n",
       "      <td id=\"T_f704c_row5_col0\" class=\"data row5 col0\" >0.003612</td>\n",
       "      <td id=\"T_f704c_row5_col1\" class=\"data row5 col1\" >0.006750</td>\n",
       "      <td id=\"T_f704c_row5_col2\" class=\"data row5 col2\" >-0.002182</td>\n",
       "      <td id=\"T_f704c_row5_col3\" class=\"data row5 col3\" >0.005955</td>\n",
       "      <td id=\"T_f704c_row5_col4\" class=\"data row5 col4\" >0.001413</td>\n",
       "      <td id=\"T_f704c_row5_col5\" class=\"data row5 col5\" >1.000000</td>\n",
       "      <td id=\"T_f704c_row5_col6\" class=\"data row5 col6\" >0.013864</td>\n",
       "      <td id=\"T_f704c_row5_col7\" class=\"data row5 col7\" >-0.006255</td>\n",
       "      <td id=\"T_f704c_row5_col8\" class=\"data row5 col8\" >-0.216818</td>\n",
       "    </tr>\n",
       "    <tr>\n",
       "      <th id=\"T_f704c_level0_row6\" class=\"row_heading level0 row6\" >sugar</th>\n",
       "      <td id=\"T_f704c_row6_col0\" class=\"data row6 col0\" >-0.006626</td>\n",
       "      <td id=\"T_f704c_row6_col1\" class=\"data row6 col1\" >-0.015262</td>\n",
       "      <td id=\"T_f704c_row6_col2\" class=\"data row6 col2\" >0.006780</td>\n",
       "      <td id=\"T_f704c_row6_col3\" class=\"data row6 col3\" >-0.009249</td>\n",
       "      <td id=\"T_f704c_row6_col4\" class=\"data row6 col4\" >-0.001368</td>\n",
       "      <td id=\"T_f704c_row6_col5\" class=\"data row6 col5\" >0.013864</td>\n",
       "      <td id=\"T_f704c_row6_col6\" class=\"data row6 col6\" >1.000000</td>\n",
       "      <td id=\"T_f704c_row6_col7\" class=\"data row6 col7\" >0.014230</td>\n",
       "      <td id=\"T_f704c_row6_col8\" class=\"data row6 col8\" >-0.263895</td>\n",
       "    </tr>\n",
       "    <tr>\n",
       "      <th id=\"T_f704c_level0_row7\" class=\"row_heading level0 row7\" >BMI</th>\n",
       "      <td id=\"T_f704c_row7_col0\" class=\"data row7 col0\" >-0.008285</td>\n",
       "      <td id=\"T_f704c_row7_col1\" class=\"data row7 col1\" >-0.661776</td>\n",
       "      <td id=\"T_f704c_row7_col2\" class=\"data row7 col2\" >0.726123</td>\n",
       "      <td id=\"T_f704c_row7_col3\" class=\"data row7 col3\" >0.005278</td>\n",
       "      <td id=\"T_f704c_row7_col4\" class=\"data row7 col4\" >0.019498</td>\n",
       "      <td id=\"T_f704c_row7_col5\" class=\"data row7 col5\" >-0.006255</td>\n",
       "      <td id=\"T_f704c_row7_col6\" class=\"data row7 col6\" >0.014230</td>\n",
       "      <td id=\"T_f704c_row7_col7\" class=\"data row7 col7\" >1.000000</td>\n",
       "      <td id=\"T_f704c_row7_col8\" class=\"data row7 col8\" >-0.276963</td>\n",
       "    </tr>\n",
       "    <tr>\n",
       "      <th id=\"T_f704c_level0_row8\" class=\"row_heading level0 row8\" >lifespan</th>\n",
       "      <td id=\"T_f704c_row8_col0\" class=\"data row8 col0\" >0.152144</td>\n",
       "      <td id=\"T_f704c_row8_col1\" class=\"data row8 col1\" >0.179911</td>\n",
       "      <td id=\"T_f704c_row8_col2\" class=\"data row8 col2\" >-0.201487</td>\n",
       "      <td id=\"T_f704c_row8_col3\" class=\"data row8 col3\" >0.677365</td>\n",
       "      <td id=\"T_f704c_row8_col4\" class=\"data row8 col4\" >-0.525613</td>\n",
       "      <td id=\"T_f704c_row8_col5\" class=\"data row8 col5\" >-0.216818</td>\n",
       "      <td id=\"T_f704c_row8_col6\" class=\"data row8 col6\" >-0.263895</td>\n",
       "      <td id=\"T_f704c_row8_col7\" class=\"data row8 col7\" >-0.276963</td>\n",
       "      <td id=\"T_f704c_row8_col8\" class=\"data row8 col8\" >1.000000</td>\n",
       "    </tr>\n",
       "  </tbody>\n",
       "</table>\n"
      ],
      "text/plain": [
       "<pandas.io.formats.style.Styler at 0x24ca9bdefe0>"
      ]
     },
     "execution_count": 25,
     "metadata": {},
     "output_type": "execute_result"
    }
   ],
   "source": [
    "df_corr = df[['genetic',\n",
    "      'length', 'mass', \n",
    "      'exercise', 'smoking',\n",
    "       'alcohol', 'sugar', 'BMI','lifespan']].dropna().corr()\n",
    "df_corr.style.background_gradient(cmap='RdBu')"
   ]
  },
  {
   "cell_type": "markdown",
   "id": "2a4fc0bf-964e-4967-a45c-2a34af0e6f90",
   "metadata": {
    "tags": []
   },
   "source": [
    "lifespan is highly correlated to exercise. IQR method and DBSCAN cluster method showed same result.\n",
    "Therefore we will remove outliers for a variabel,'exercise'."
   ]
  }
 ],
 "metadata": {
  "kernelspec": {
   "display_name": "Python 3 (ipykernel)",
   "language": "python",
   "name": "python3"
  },
  "language_info": {
   "codemirror_mode": {
    "name": "ipython",
    "version": 3
   },
   "file_extension": ".py",
   "mimetype": "text/x-python",
   "name": "python",
   "nbconvert_exporter": "python",
   "pygments_lexer": "ipython3",
   "version": "3.10.10"
  }
 },
 "nbformat": 4,
 "nbformat_minor": 5
}
